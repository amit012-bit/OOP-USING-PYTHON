{
  "nbformat": 4,
  "nbformat_minor": 0,
  "metadata": {
    "colab": {
      "name": " Lab Assignment 2.ipynb",
      "provenance": [],
      "include_colab_link": true
    },
    "kernelspec": {
      "name": "python3",
      "display_name": "Python 3"
    },
    "language_info": {
      "name": "python"
    }
  },
  "cells": [
    {
      "cell_type": "markdown",
      "metadata": {
        "id": "view-in-github",
        "colab_type": "text"
      },
      "source": [
        "<a href=\"https://colab.research.google.com/github/amit012-bit/OOP-USING-PYTHON/blob/main/Lab_Assignment_2.ipynb\" target=\"_parent\"><img src=\"https://colab.research.google.com/assets/colab-badge.svg\" alt=\"Open In Colab\"/></a>"
      ]
    },
    {
      "cell_type": "code",
      "metadata": {
        "colab": {
          "base_uri": "https://localhost:8080/"
        },
        "id": "NveRglFSsp6z",
        "outputId": "29452c33-ae9a-459a-fa24-0007daa3a183"
      },
      "source": [
        "#PROBLEM 1:\n",
        "import math\n",
        "class Circle:\n",
        "    def __init__(self, radius):\n",
        "        self.radius = radius\n",
        "\n",
        "    def perimeter(self):\n",
        "        return (2 * math.pi * self.radius)\n",
        "\n",
        "    def area(self):\n",
        "        return (math.pi * (self.radius ** 2))\n",
        "\n",
        "c1 = Circle(6)\n",
        "print(c1.perimeter())\n",
        "print(c1.area())"
      ],
      "execution_count": null,
      "outputs": [
        {
          "output_type": "stream",
          "name": "stdout",
          "text": [
            "37.69911184307752\n",
            "113.09733552923255\n"
          ]
        }
      ]
    },
    {
      "cell_type": "code",
      "metadata": {
        "id": "MeYYAz3-Otr7"
      },
      "source": [
        ""
      ],
      "execution_count": null,
      "outputs": []
    },
    {
      "cell_type": "code",
      "metadata": {
        "colab": {
          "base_uri": "https://localhost:8080/"
        },
        "id": "doRe9maCtbSU",
        "outputId": "f464b6a5-6b0d-4024-e672-5113d141c1d1"
      },
      "source": [
        "#PROBLEM 2:\n",
        "class TeachingFaculty:\n",
        "  def setData(self):\n",
        "        self.name = input(\"Enter the name of the Employee : \") \n",
        "        self.emp_ID = int(input(\"Enter the employee ID : \"))\n",
        "        self.branch = input(\"Enter the branch : \")\n",
        "        self.salary = int(input(\"Enter the salary : \"))\n",
        "\n",
        "  def getData(self):\n",
        "        print(f\"Name : {self.name} \\nEmployee ID : {self.emp_ID} \\nBranch : {self.branch} \\nSalary : {self.salary}\\n\")\n",
        "        return self.name, self.emp_ID, self.branch, self.salary\n",
        "TFlist = []\n",
        "for i in range(1, 6):\n",
        "    temp = TeachingFaculty()\n",
        "    print(f\"\\nEnter the data for {i}th employee : \")\n",
        "    temp.setData()\n",
        "    TFlist.append(temp)\n",
        "    print('\\n')\n",
        "\n",
        "for i in range(0, 5):\n",
        "    print(f\"\\nData of {i+1}th employee : \")\n",
        "    TFlist[i].getData()"
      ],
      "execution_count": null,
      "outputs": [
        {
          "output_type": "stream",
          "name": "stdout",
          "text": [
            "\n",
            "Enter the data for 1th employee : \n",
            "Enter the name of the Employee : harsh\n",
            "Enter the employee ID : 050\n",
            "Enter the branch : cse\n",
            "Enter the salary : 50000\n",
            "\n",
            "\n",
            "\n",
            "Enter the data for 2th employee : \n",
            "Enter the name of the Employee : neeraj\n",
            "Enter the employee ID : 092\n",
            "Enter the branch : ece\n",
            "Enter the salary : 45000\n",
            "\n",
            "\n",
            "\n",
            "Enter the data for 3th employee : \n",
            "Enter the name of the Employee : gaurav\n",
            "Enter the employee ID : 047\n",
            "Enter the branch : dsai\n",
            "Enter the salary : 47000\n",
            "\n",
            "\n",
            "\n",
            "Enter the data for 4th employee : \n",
            "Enter the name of the Employee : amiy\n",
            "Enter the employee ID : 012\n",
            "Enter the branch : cse\n",
            "Enter the salary : 42000\n",
            "\n",
            "\n",
            "\n",
            "Enter the data for 5th employee : \n",
            "Enter the name of the Employee : aryan\n",
            "Enter the employee ID : 021\n",
            "Enter the branch : ece\n",
            "Enter the salary : 35000\n",
            "\n",
            "\n",
            "\n",
            "Data of 1th employee : \n",
            "Name : harsh \n",
            "Employee ID : 50 \n",
            "Branch : cse \n",
            "Salary : 50000\n",
            "\n",
            "\n",
            "Data of 2th employee : \n",
            "Name : neeraj \n",
            "Employee ID : 92 \n",
            "Branch : ece \n",
            "Salary : 45000\n",
            "\n",
            "\n",
            "Data of 3th employee : \n",
            "Name : gaurav \n",
            "Employee ID : 47 \n",
            "Branch : dsai \n",
            "Salary : 47000\n",
            "\n",
            "\n",
            "Data of 4th employee : \n",
            "Name : amiy \n",
            "Employee ID : 12 \n",
            "Branch : cse \n",
            "Salary : 42000\n",
            "\n",
            "\n",
            "Data of 5th employee : \n",
            "Name : aryan \n",
            "Employee ID : 21 \n",
            "Branch : ece \n",
            "Salary : 35000\n",
            "\n"
          ]
        }
      ]
    },
    {
      "cell_type": "code",
      "metadata": {
        "colab": {
          "base_uri": "https://localhost:8080/"
        },
        "id": "o08i_ortv7YM",
        "outputId": "86f84f23-f2e1-49e2-c72b-6bc78db65592"
      },
      "source": [
        "#PROBLEM 2:\n",
        "class Account:\n",
        "    def __init__(self, accNo, accHolder, amount):\n",
        "        self.accountNumber = accNo\n",
        "        self.accountHolder = accHolder\n",
        "        self.accountAmount = amount\n",
        "\n",
        "    def deposit(self):\n",
        "        depAmount = int(input(\"Enter the amount to deposit : \"))\n",
        "        self.accountAmount += depAmount\n",
        "        print(f\"Amount deposited : {depAmount} \\nNew Balance : {self.accountAmount}\")\n",
        "\n",
        "    def withdraw(self):\n",
        "        withAmount = int(input(\"Enter the amount to withdraw : \"))\n",
        "        if withAmount > self.accountAmount:\n",
        "            print(\"Cannot withdraw more than savings.\")\n",
        "            return -1\n",
        "        self.accountAmount -= withAmount\n",
        "        print(f\"Amount withdraw : {withAmount} \\nNew Balance = {self.accountAmount}\")\n",
        "        return withAmount\n",
        "\n",
        "    def checkBalance(self):\n",
        "        print(f\"Balance : {self.accountAmount}\")\n",
        "        return self.accountAmount\n",
        "\n",
        "    def getDetails(self):\n",
        "        print(f\"\\nAccount Number : {self.accountNumber} \\nAccount Holder : {self.accountHolder} \\nBalance : {self.accountAmount}\")\n",
        "        return self.accountNumber, self.accountHolder, self.accountAmount\n",
        "\n",
        "a1 = Account(100, \"AMIT\", 10000)\n",
        "a1.deposit()\n",
        "withdraw = a1.withdraw()\n",
        "print(withdraw)\n",
        "balance = a1.checkBalance()\n",
        "print(balance)\n",
        "details = a1.getDetails()\n",
        "print(details)"
      ],
      "execution_count": 1,
      "outputs": [
        {
          "output_type": "stream",
          "name": "stdout",
          "text": [
            "Enter the amount to deposit : 5000\n",
            "Amount deposited : 5000 \n",
            "New Balance : 15000\n",
            "Enter the amount to withdraw : 7000\n",
            "Amount withdraw : 7000 \n",
            "New Balance = 8000\n",
            "7000\n",
            "Balance : 8000\n",
            "8000\n",
            "\n",
            "Account Number : 100 \n",
            "Account Holder : AMIT \n",
            "Balance : 8000\n",
            "(100, 'AMIT', 8000)\n"
          ]
        }
      ]
    },
    {
      "cell_type": "code",
      "metadata": {
        "colab": {
          "base_uri": "https://localhost:8080/"
        },
        "id": "yETuIDL8xA1X",
        "outputId": "95f95aa2-8fb2-470f-a904-24e68b63d032"
      },
      "source": [
        "#PROBLEM 4:\n",
        "class DETAILS:\n",
        "\n",
        "    def setData(self):\n",
        "        self.name = input(\"Enter the name of the student : \")\n",
        "        self.ID = int(input(\"Enter the USN of the student : \"))\n",
        "        self.marks = []\n",
        "        for i in range(1, 4):\n",
        "            marks = input(f\"Enter the marks for subject {i} : \")\n",
        "            self.marks.append(marks)\n",
        "\n",
        "    def getData(self):\n",
        "        print(f\"Name : {self.name} \\nUSN : {self.ID} \\nMarks : \\nSubject 1 : {self.marks[0]} \\nSubject 2 : {self.marks[1]} \\nSubject 3 : {self.marks[2]}\")\n",
        "        return self.name, self.ID, self.marks\n",
        "\n",
        "s1 = DETAILS()\n",
        "s1.setData()\n",
        "list1 = s1.getData()\n",
        "print(list1)"
      ],
      "execution_count": 5,
      "outputs": [
        {
          "output_type": "stream",
          "name": "stdout",
          "text": [
            "Enter the name of the student : AMIT\n",
            "Enter the USN of the student : 012\n",
            "Enter the marks for subject 1 : 100\n",
            "Enter the marks for subject 2 : 92\n",
            "Enter the marks for subject 3 : 96\n",
            "Name : AMIT \n",
            "USN : 12 \n",
            "Marks : \n",
            "Subject 1 : 100 \n",
            "Subject 2 : 92 \n",
            "Subject 3 : 96\n",
            "('AMIT', 12, ['100', '92', '96'])\n"
          ]
        }
      ]
    },
    {
      "cell_type": "code",
      "metadata": {
        "colab": {
          "base_uri": "https://localhost:8080/"
        },
        "id": "xiB0fnh5x5Xi",
        "outputId": "dc70e6d5-b151-483c-b44e-ba1a18521b13"
      },
      "source": [
        "#PROBLEM 5:\n",
        "class Patient:\n",
        "    def setData(self):\n",
        "        self.name = input(\"Enter the name of the patient : \")\n",
        "        self.dateOfAdmission = input(\"Enter the date of admission : \")\n",
        "        self.symptoms = input(\"Enter all the symptoms with a space in between : \").split(\" \")\n",
        "        self.oxygenLevel = int(input(\"Enter the oxygen level of the patient : \"))\n",
        "        self.dateOfDischarge = input(\"Enter the date of discharge : \")\n",
        "\n",
        "    def getData(self):\n",
        "        print(f\"\\nName : {self.name} \\nDate of Admission : {self.dateOfAdmission} \\nSymptoms : {self.symptoms} \\nOxygen Level : {self.oxygenLevel} \\nDate of Discharge : {self.dateOfDischarge}\\n\")\n",
        "        return self.name, self.dateOfAdmission, self.symptoms, self.oxygenLevel, self.dateOfDischarge\n",
        "\n",
        "    def checkSeverity(self):\n",
        "        if self.oxygenLevel < 90:\n",
        "            print(\"Patient's condition is severe.\")\n",
        "        else:\n",
        "            print(\"Patient is doing fine.\")\n",
        "\n",
        "\n",
        "class Hospital:    \n",
        "    def __init__(self):\n",
        "        self.listOfPatients = []\n",
        "        self.oxygenSupport = []\n",
        "\n",
        "    def addPatient(self):\n",
        "        temp = Patient()\n",
        "        temp.setData()\n",
        "        if temp.oxygenLevel < 90:\n",
        "            self.oxygenSupport.append(1)\n",
        "        else:\n",
        "            self.oxygenSupport.append(0)\n",
        "        self.listOfPatients.append(temp)\n",
        "\n",
        "    def checkSeverity(self):\n",
        "        name = input(\"Enter the name of the patient : \")\n",
        "        for i in range(0, len(self.listOfPatients)):\n",
        "            if name == self.listOfPatients[i].name:\n",
        "                self.listOfPatients[i].checkSeverity()\n",
        "                return 1\n",
        "        print(\"Patient not found\")\n",
        "\n",
        "\n",
        "    def getOxygenSupport(self):\n",
        "        return self.oxygenSupport.count(1)\n",
        "\n",
        "    def generalWard(self):\n",
        "        return self.oxygenSupport.count(0)\n",
        "\n",
        "    def totalPatients(self):\n",
        "        return len(self.listOfPatients)\n",
        "\n",
        "\n",
        "H1 = Hospital()\n",
        "\n",
        "for i in range(0, 2):\n",
        "    H1.addPatient()\n",
        "    H1.listOfPatients[i].getData()\n",
        "    H1.listOfPatients[i].checkSeverity()\n",
        "\n",
        "print(H1.getOxygenSupport())\n",
        "print(H1.generalWard())\n",
        "print(H1.totalPatients())\n",
        "H1.checkSeverity()"
      ],
      "execution_count": 3,
      "outputs": [
        {
          "output_type": "stream",
          "name": "stdout",
          "text": [
            "Enter the name of the patient : AMIT\n",
            "Enter the date of admission : 12/9/21\n",
            "Enter all the symptoms with a space in between : COLD HEADACHE ANXIETY\n",
            "Enter the oxygen level of the patient : 97\n",
            "Enter the date of discharge : 14/9/21\n",
            "\n",
            "Name : AMIT \n",
            "Date of Admission : 12/9/21 \n",
            "Symptoms : ['COLD', 'HEADACHE', 'ANXIETY'] \n",
            "Oxygen Level : 97 \n",
            "Date of Discharge : 14/9/21\n",
            "\n",
            "Patient is doing fine.\n",
            "Enter the name of the patient : GAURAV\n",
            "Enter the date of admission : 10/9/21\n",
            "Enter all the symptoms with a space in between : FEVER COLD UNABLE TO WALK\n",
            "Enter the oxygen level of the patient : 80\n",
            "Enter the date of discharge : 10/10/21\n",
            "\n",
            "Name : GAURAV \n",
            "Date of Admission : 10/9/21 \n",
            "Symptoms : ['FEVER', 'COLD', 'UNABLE', 'TO', 'WALK'] \n",
            "Oxygen Level : 80 \n",
            "Date of Discharge : 10/10/21\n",
            "\n",
            "Patient's condition is severe.\n",
            "1\n",
            "1\n",
            "2\n",
            "Enter the name of the patient : GAURAV\n",
            "Patient's condition is severe.\n"
          ]
        },
        {
          "output_type": "execute_result",
          "data": {
            "text/plain": [
              "1"
            ]
          },
          "metadata": {},
          "execution_count": 3
        }
      ]
    },
    {
      "cell_type": "code",
      "metadata": {
        "colab": {
          "base_uri": "https://localhost:8080/"
        },
        "id": "VYpY9c2g0dlz",
        "outputId": "d175f585-027d-4815-db6e-193996dfd859"
      },
      "source": [
        "#PROBLEM 6:\n",
        "class Time:\n",
        "    def setToDefault(self):\n",
        "        self.hours = 0\n",
        "        self.minutes = 0\n",
        "        self.seconds = 0\n",
        "\n",
        "    def setToVal(self, hours, minutes, seconds):\n",
        "        if seconds > 59:\n",
        "            tempMinutes = seconds // 60\n",
        "            seconds = seconds % 60\n",
        "            self.seconds = seconds\n",
        "            self.minutes = tempMinutes + minutes\n",
        "        else:\n",
        "            self.seconds = seconds\n",
        "            self.minutes = minutes\n",
        "\n",
        "        if self.minutes > 59:\n",
        "            tempHours = self.minutes // 60\n",
        "            self.minutes = self.minutes % 60\n",
        "            self.hours = tempHours + hours\n",
        "        else:\n",
        "            self.minutes = minutes\n",
        "            self.hours = hours\n",
        "\n",
        "    def displayTime(self):\n",
        "        print(f\"Time : {self.hours}::{self.minutes}::{self.seconds}\")\n",
        "\n",
        "\n",
        "T1 = Time()\n",
        "T1.setToDefault()\n",
        "T1.displayTime()\n",
        "T1.setToVal(20, 59, 59)\n",
        "T1.displayTime()"
      ],
      "execution_count": null,
      "outputs": [
        {
          "output_type": "stream",
          "name": "stdout",
          "text": [
            "Time : 0::0::0\n",
            "Time : 20::59::59\n"
          ]
        }
      ]
    },
    {
      "cell_type": "code",
      "metadata": {
        "colab": {
          "base_uri": "https://localhost:8080/"
        },
        "id": "KDlyzyr03Qh1",
        "outputId": "b6a03517-0ae4-495b-8731-d8708e5a4b41"
      },
      "source": [
        "#PROBLEM 7:\n",
        "class Student:\n",
        "    def __init__(self, name, age, rollNo):\n",
        "        self.name = name\n",
        "        self.age = age\n",
        "        self.rollNo = rollNo\n",
        "\n",
        "    @classmethod\n",
        "    def compareStudentsAge(cls, std1, std2):\n",
        "        if std1.age == std2.age:\n",
        "            print(\"Age of the students are equal.\")\n",
        "        else:\n",
        "            print(\"Age of the students are not equal.\")\n",
        "\n",
        "std1 = Student(\"Rahul\", 21, 33)\n",
        "std2 = Student(\"Rohit\", 22, 74)\n",
        "\n",
        "Student.compareStudentsAge(std1, std2)"
      ],
      "execution_count": null,
      "outputs": [
        {
          "output_type": "stream",
          "name": "stdout",
          "text": [
            "Age of the students are not equal.\n"
          ]
        }
      ]
    },
    {
      "cell_type": "code",
      "metadata": {
        "colab": {
          "base_uri": "https://localhost:8080/"
        },
        "id": "tjeMZVDy337d",
        "outputId": "7b8b4c25-c471-4459-f9c1-8f700ec35cdd"
      },
      "source": [
        "#PROBLEM 8:\n",
        "class Student:\n",
        "    sem = 3\n",
        "    institute = \"IIIT Dharwad\"\n",
        "    \n",
        "    def setData(self):\n",
        "        self.name = input(\"Enter the name of the student : \")\n",
        "        self.id = int(input(\"Enter the USN of student : \"))\n",
        "\n",
        "    def getInstanceData(self):\n",
        "        print(f\"Name : {self.name} \\nUSN = {self.id}\")\n",
        "\n",
        "    @classmethod\n",
        "    def getClassData(cls):\n",
        "        print(f\"Semester : {cls.sem} \\nInstitute : {cls.institute} \\n\")\n",
        "\n",
        "    @staticmethod\n",
        "    def getExplanation():\n",
        "        print(\"Class variables namely sem and institute are printed using ClassMethod and Instance variables namely name and id are printed using Instance Method\")\n",
        "\n",
        "\n",
        "s1 = Student()\n",
        "s1.setData()\n",
        "s1.getInstanceData()\n",
        "Student.getClassData()\n",
        "Student.getExplanation()\n"
      ],
      "execution_count": 4,
      "outputs": [
        {
          "output_type": "stream",
          "name": "stdout",
          "text": [
            "Enter the name of the student : AMIT\n",
            "Enter the USN of student : 012\n",
            "Name : AMIT \n",
            "USN = 12\n",
            "Semester : 3 \n",
            "Institute : IIIT Dharwad \n",
            "\n",
            "Class variables namely sem and institute are printed using ClassMethod and Instance variables namely name and id are printed using Instance Method\n"
          ]
        }
      ]
    },
    {
      "cell_type": "code",
      "metadata": {
        "colab": {
          "base_uri": "https://localhost:8080/"
        },
        "id": "JlqLALg-4bRQ",
        "outputId": "32bc81f8-d16c-4ae7-f0df-1ebe940c43ce"
      },
      "source": [
        "#PROBLEM 9:\n",
        "class Student:\n",
        "    def setData(self):\n",
        "        self.Name = input(\"Enter the name : \")\n",
        "        self.ID = int(input(\"Enter the Roll Number : \"))\n",
        "        self.sem = int(input(\"Enter the semester number : \"))\n",
        "        self.nLaptop = int(input(\"Enter the number of laptops : \"))\n",
        "        self.listLaptop = []\n",
        "        for i in range (0, self.nLaptop):\n",
        "            tempObj = self.Laptop()\n",
        "            self.listLaptop.append(tempObj)\n",
        "\n",
        "    class Laptop:\n",
        "        def __init__(self):\n",
        "            self.cpu = input(\"Enter the name of the CPU : \")\n",
        "            self.ram = input(\"Enter the RAM of the Laptop : \")\n",
        "            self.hardDisk = input(\"Enter the size of hard disk : \")\n",
        "            self.display = input(\"Enter the display resolution : \")\n",
        "        \n",
        "        def getData(self):\n",
        "            print(f\"\\nCPU : {self.cpu} \\nRAM : {self.ram} \\nHard Disk : {self.hardDisk} \\nDisplay Resolution : {self.display} \\n\")\n",
        "\n",
        "    def getData(self):\n",
        "        print(f\"\\nName : {self.Name} \\nUSN : {self.ID} \\nSemester : {self.sem} \\nNumber of Laptops : {self.nLaptop}\")\n",
        "        for i in range(0, self.nLaptop):\n",
        "            print(f\"Details of {i+1}th laptop : \")\n",
        "            self.listLaptop[i].getData()\n",
        "\n",
        "S1 = Student()\n",
        "S1.setData()\n",
        "S1.getData()"
      ],
      "execution_count": 7,
      "outputs": [
        {
          "output_type": "stream",
          "name": "stdout",
          "text": [
            "Enter the name : AMIT\n",
            "Enter the Roll Number : 012\n",
            "Enter the semester number : 3\n",
            "Enter the number of laptops : 3\n",
            "Enter the name of the CPU : INTEL I5\n",
            "Enter the RAM of the Laptop : 8GB\n",
            "Enter the size of hard disk : 1\n",
            "Enter the display resolution : 1080\n",
            "Enter the name of the CPU : INTEL I7\n",
            "Enter the RAM of the Laptop : 4 GB\n",
            "Enter the size of hard disk : 2\n",
            "Enter the display resolution : 720\n",
            "Enter the name of the CPU : RYZEN\n",
            "Enter the RAM of the Laptop : 8GB\n",
            "Enter the size of hard disk : 1\n",
            "Enter the display resolution : 1080\n",
            "\n",
            "Name : AMIT \n",
            "USN : 12 \n",
            "Semester : 3 \n",
            "Number of Laptops : 3\n",
            "Details of 1th laptop : \n",
            "\n",
            "CPU : INTEL I5 \n",
            "RAM : 8GB \n",
            "Hard Disk : 1 \n",
            "Display Resolution : 1080 \n",
            "\n",
            "Details of 2th laptop : \n",
            "\n",
            "CPU : INTEL I7 \n",
            "RAM : 4 GB \n",
            "Hard Disk : 2 \n",
            "Display Resolution : 720 \n",
            "\n",
            "Details of 3th laptop : \n",
            "\n",
            "CPU : RYZEN \n",
            "RAM : 8GB \n",
            "Hard Disk : 1 \n",
            "Display Resolution : 1080 \n",
            "\n"
          ]
        }
      ]
    }
  ]
}