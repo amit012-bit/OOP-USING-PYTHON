{
  "nbformat": 4,
  "nbformat_minor": 0,
  "metadata": {
    "colab": {
      "name": "Lab Assignment 4 .ipynb",
      "provenance": [],
      "authorship_tag": "ABX9TyPzvvFiAELyrfmwOPIiyshd",
      "include_colab_link": true
    },
    "kernelspec": {
      "name": "python3",
      "display_name": "Python 3"
    },
    "language_info": {
      "name": "python"
    }
  },
  "cells": [
    {
      "cell_type": "markdown",
      "metadata": {
        "id": "view-in-github",
        "colab_type": "text"
      },
      "source": [
        "<a href=\"https://colab.research.google.com/github/harshrawat20/OOP_USING_PYTHON/blob/main/Lab_Assignment_4_.ipynb\" target=\"_parent\"><img src=\"https://colab.research.google.com/assets/colab-badge.svg\" alt=\"Open In Colab\"/></a>"
      ]
    },
    {
      "cell_type": "code",
      "metadata": {
        "colab": {
          "base_uri": "https://localhost:8080/",
          "height": 0
        },
        "id": "uWSlhQd5DdLH",
        "outputId": "5d8a4e29-4858-4002-d27e-39fddccf19e1"
      },
      "source": [
        "#Probllem 1:\n",
        "class Node:\n",
        "  def __init__(self, data):\n",
        "    self.data = data\n",
        "    self.next = None\n",
        "  def __del__(self):\n",
        "    print(self.data, 'deleted successfully.')\n",
        "\n",
        "class Stack:\n",
        "  def __init__(self, data):\n",
        "    self.top = Node(data)\n",
        "    print(self.top.data,'added to the stack.')\n",
        "  \n",
        "  def add(self, data):\n",
        "    new = Node(data)\n",
        "    new.next = self.top\n",
        "    self.top = new\n",
        "    print(self.top.data, 'added to the stack.')\n",
        "  \n",
        "  def remove(self):\n",
        "    try:\n",
        "      del_node = self.top\n",
        "      self.top = self.top.next\n",
        "      del del_node\n",
        "\n",
        "    except AttributeError:\n",
        "      print('Cannot remove any more elements from the stack as it is empty.')\n",
        "\n",
        "  def view(self):\n",
        "    print('\\nThe elements of the stack are : ',sep=' ')\n",
        "    curr_node = self.top\n",
        "    while curr_node.next is not None:\n",
        "      print(curr_node.data, sep=' ')\n",
        "      curr_node = curr_node.next\n",
        "    print(curr_node.data)\n",
        "    print()\n",
        "\n",
        "  def is_empty(self):\n",
        "    try:\n",
        "      print('Stack is not empty and it begins with', self.top.data)\n",
        "    except AttributeError:\n",
        "      print('Stack is empty')\n",
        "\n",
        "  def __del__(self):\n",
        "    curr_node = self.top\n",
        "    while curr_node.next is not None:\n",
        "      del_node = curr_node\n",
        "      curr_node = curr_node.next\n",
        "      del del_node\n",
        "    del curr_node\n",
        "    print('Stack deleted.')\n",
        "\n",
        "\n",
        "stack = Stack(4)\n",
        "stack.add('a')\n",
        "stack.add(3)\n",
        "stack.add(2)\n",
        "stack.add(1.4012)\n",
        "stack.add(True)\n",
        "stack.view()\n",
        "stack.is_empty()\n",
        "stack.remove()\n",
        "stack.remove()\n",
        "stack.add('c')\n",
        "stack.view()\n",
        "stack.is_empty()\n",
        "del stack\n"
      ],
      "execution_count": 8,
      "outputs": [
        {
          "output_type": "stream",
          "name": "stdout",
          "text": [
            "5 added to the stack.\n",
            "a added to the stack.\n",
            "4 added to the stack.\n",
            "3 added to the stack.\n",
            "0.4562 added to the stack.\n",
            "True added to the stack.\n",
            "\n",
            "The elements of the stack are : \n",
            "True\n",
            "0.4562\n",
            "3\n",
            "4\n",
            "a\n",
            "5\n",
            "\n",
            "Stack is not empty and it begins with True\n",
            "True deleted successfully.\n",
            "0.4562 deleted successfully.\n",
            "c added to the stack.\n",
            "\n",
            "The elements of the stack are : \n",
            "c\n",
            "3\n",
            "4\n",
            "a\n",
            "5\n",
            "\n",
            "Stack is not empty and it begins with c\n",
            "Stack deleted.\n",
            "c deleted successfully.\n",
            "3 deleted successfully.\n",
            "4 deleted successfully.\n",
            "a deleted successfully.\n",
            "5 deleted successfully.\n"
          ]
        }
      ]
    },
    {
      "cell_type": "code",
      "metadata": {
        "colab": {
          "base_uri": "https://localhost:8080/",
          "height": 0
        },
        "id": "5UkvqQTqHIdt",
        "outputId": "7d6aa14b-10fc-4784-8dd1-15615f07808c"
      },
      "source": [
        "#Problem 2:\n",
        "class Rectangle:\n",
        "    def __init__(self):\n",
        "        self.length = 0\n",
        "        self.width = 0\n",
        "\n",
        "    def setData(self, l, b):\n",
        "        self.length = l\n",
        "        self.width = b\n",
        "    \n",
        "    def calcArea(self):\n",
        "        return self.length * self.width\n",
        "\n",
        "class RectangeP:\n",
        "    def __init__(self, l, b):\n",
        "        self.length = l\n",
        "        self.width = b\n",
        "\n",
        "    def calcArea(self):\n",
        "        return self.length * self.width\n",
        "\n",
        "r1 = Rectangle()\n",
        "r1.setData(5, 4)\n",
        "print(f\"Area of default constructor rectange : {r1.calcArea()}\")\n",
        "r2 = RectangeP(10, 12)\n",
        "print(f\"Area of parameterized constructor rectange : {r2.calcArea()}\")"
      ],
      "execution_count": 10,
      "outputs": [
        {
          "output_type": "stream",
          "name": "stdout",
          "text": [
            "Area of default constructor rectange : 20\n",
            "Area of parameterized constructor rectange : 120\n"
          ]
        }
      ]
    },
    {
      "cell_type": "code",
      "metadata": {
        "colab": {
          "base_uri": "https://localhost:8080/",
          "height": 0
        },
        "id": "t0CBmTihHxwQ",
        "outputId": "c0449e69-fe0a-47de-82f6-04845e3fa0d4"
      },
      "source": [
        "#Problem 3:\n",
        "class Queue:\n",
        "    def __init__(self):\n",
        "        self.queue = []\n",
        "\n",
        "    def isEmpty(self):\n",
        "        return self.queue == []\n",
        "\n",
        "    def enqueue(self, data):\n",
        "        self.queue.append(data)\n",
        "\n",
        "    def dequeue(self):\n",
        "        return self.queue.pop(0)\n",
        "\n",
        "    def displayQueue(self):\n",
        "        print(f\"Queue : {self.queue}\")\n",
        "\n",
        "    def __del__(self):\n",
        "        print(\"Queue deleted\")\n",
        "\n",
        "q = Queue()\n",
        "for i in range(0, 10):\n",
        "    q.enqueue(i)\n",
        "\n",
        "q.displayQueue()\n",
        "\n",
        "for i in range(1, 5):\n",
        "    print(f\"Value Dequeued : {q.dequeue()}\")\n",
        "\n",
        "q.displayQueue()\n"
      ],
      "execution_count": 11,
      "outputs": [
        {
          "output_type": "stream",
          "name": "stdout",
          "text": [
            "Queue : [0, 1, 2, 3, 4, 5, 6, 7, 8, 9]\n",
            "Value Dequeued : 0\n",
            "Value Dequeued : 1\n",
            "Value Dequeued : 2\n",
            "Value Dequeued : 3\n",
            "Queue : [4, 5, 6, 7, 8, 9]\n"
          ]
        }
      ]
    }
  ]
}
