{
  "nbformat": 4,
  "nbformat_minor": 0,
  "metadata": {
    "colab": {
      "name": " OOP_Lab_Assignment_1.ipynb",
      "provenance": [],
      "collapsed_sections": [],
      "include_colab_link": true
    },
    "kernelspec": {
      "name": "python3",
      "display_name": "Python 3"
    },
    "language_info": {
      "name": "python"
    }
  },
  "cells": [
    {
      "cell_type": "markdown",
      "metadata": {
        "id": "view-in-github",
        "colab_type": "text"
      },
      "source": [
        "<a href=\"https://colab.research.google.com/github/amit012-bit/OOP-USING-PYTHON/blob/main/OOP_Lab_Assignment_1.ipynb\" target=\"_parent\"><img src=\"https://colab.research.google.com/assets/colab-badge.svg\" alt=\"Open In Colab\"/></a>"
      ]
    },
    {
      "cell_type": "code",
      "metadata": {
        "colab": {
          "base_uri": "https://localhost:8080/"
        },
        "id": "EwIw6O09TPfs",
        "outputId": "a48d6563-f5a4-412e-a2cf-fa83b6077ba6"
      },
      "source": [
        "#problem 1\n",
        "def leap(year):\n",
        "  if (year % 4)==0:\n",
        "    if (year%100)==0:\n",
        "      if (year%400)==0:\n",
        "        return True\n",
        "      else:\n",
        "        return False\n",
        "    else:\n",
        "      return True\n",
        "  else:\n",
        "    return False\n",
        "year = int(input(\"Enter year\"))\n",
        "c=leap(year)\n",
        "print(c)   "
      ],
      "execution_count": null,
      "outputs": [
        {
          "output_type": "stream",
          "name": "stdout",
          "text": [
            "Enter year2012\n",
            "True\n"
          ]
        }
      ]
    },
    {
      "cell_type": "code",
      "metadata": {
        "colab": {
          "base_uri": "https://localhost:8080/"
        },
        "id": "oFWB_-jjYJ6i",
        "outputId": "fec0895a-777a-4c3c-b558-9ce8df511490"
      },
      "source": [
        "#Problem-2\n",
        "def weird_or_not(number):\n",
        "  if not number%2==0 or number%2 == 0 and number in range(6,21):\n",
        "    print('Weird')\n",
        "  else:\n",
        "    print('Not Weird')\n",
        "\n",
        "number = int(input('Enter a number: '))\n",
        "weird_or_not(number)"
      ],
      "execution_count": null,
      "outputs": [
        {
          "output_type": "stream",
          "name": "stdout",
          "text": [
            "Enter a number: 22\n",
            "Not Weird\n"
          ]
        }
      ]
    },
    {
      "cell_type": "code",
      "metadata": {
        "colab": {
          "base_uri": "https://localhost:8080/"
        },
        "id": "PgymhBlcZxHe",
        "outputId": "d1232296-ab74-4007-81cd-01c67416df96"
      },
      "source": [
        "#Problem-3\n",
        "def arrival_status(arrivals, person):\n",
        "  length = len(arrivals)\n",
        "  start = (length//2) \n",
        "  end = length - 1\n",
        "  for i in range(start, end):\n",
        "    if arrivals[i] == person:\n",
        "      return True\n",
        "  return False\n",
        "\n",
        "arrivals = ['Hardik', 'Rahul', 'Virat', 'Rishabh', 'Mahi', 'Rohit', 'Rahane']\n",
        "person=input(\"Enter the person \")\n",
        "c=arrival_status(arrivals,person)\n",
        "if c==True:\n",
        "  print(\"Fashionably Late\")\n",
        "else :\n",
        "  print(\"Not Fashionably Late\")"
      ],
      "execution_count": null,
      "outputs": [
        {
          "output_type": "stream",
          "name": "stdout",
          "text": [
            "Enter the person Rahane\n",
            "Not Fashionably Late\n"
          ]
        }
      ]
    },
    {
      "cell_type": "code",
      "metadata": {
        "colab": {
          "base_uri": "https://localhost:8080/"
        },
        "id": "7N33X1c3cZlz",
        "outputId": "17e844ee-c8a5-4adc-ff9f-a1427b87f7a7"
      },
      "source": [
        "#Problem-4\n",
        "\n",
        "def search_for_keyword(doc_list, keyword):\n",
        "  req_list = []\n",
        "  for doc in doc_list:\n",
        "    duplicate = doc\n",
        "    duplicate.replace(',','')\n",
        "    duplicate.replace('.','')\n",
        "    duplicate_list = duplicate.split()\n",
        "    for word in duplicate_list:\n",
        "      if word.lower() == keyword.lower():\n",
        "        req_list.append(doc)\n",
        "  \n",
        "  return req_list\n",
        "\n",
        "doc_list = [\"The Learn Python Challenge Rohit.\", \"They bought a car\", \"bangalore\"]\n",
        "keyword = input('Enter the keyword: ')\n",
        "required_list = search_for_keyword(doc_list, keyword)\n",
        "print(required_list)\n",
        "\n",
        "keyword = input('Enter the keyword: ')\n",
        "required_list = search_for_keyword(doc_list, keyword)\n",
        "print(required_list)\n",
        "\n",
        "keyword = input('Enter the keyword: ')\n",
        "required_list = search_for_keyword(doc_list, keyword)\n",
        "print(required_list)\n",
        "\n",
        "keyword = input('Enter the keyword: ')\n",
        "required_list = search_for_keyword(doc_list, keyword)\n",
        "print(required_list)"
      ],
      "execution_count": null,
      "outputs": [
        {
          "output_type": "stream",
          "name": "stdout",
          "text": [
            "Enter the keyword: learn\n",
            "['The Learn Python Challenge Rohit.']\n",
            "Enter the keyword: earn\n",
            "[]\n",
            "Enter the keyword: bang\n",
            "[]\n",
            "Enter the keyword: bangalore\n",
            "['bangalore']\n"
          ]
        }
      ]
    },
    {
      "cell_type": "code",
      "metadata": {
        "colab": {
          "base_uri": "https://localhost:8080/"
        },
        "id": "qBYvTUgqePq3",
        "outputId": "3d867a60-22cb-42c8-dca8-b16816d36268"
      },
      "source": [
        "#Problem-5\n",
        "\n",
        "# gross pay = bp+da+hra\n",
        "# da = 40% of bp and hra = 20%of bp\n",
        "# gp = bp + 60% of bp\n",
        "# gp = 160%ofbp i.e. 1.6*bp\n",
        "\n",
        "def calc_GrossPay(basic_pay):\n",
        "  return 1.6*basic_pay\n",
        "\n",
        "basic_pay = int(input('Enter the basic pay: '))\n",
        "gross_pay = calc_GrossPay(basic_pay)\n",
        "print(f'The gross pay is {gross_pay}')\n",
        "\n",
        "basic_pay = int(input('Enter the basic pay: '))\n",
        "gross_pay = calc_GrossPay(basic_pay)\n",
        "print(f'The gross pay is {gross_pay}')\n",
        "\n",
        "basic_pay = int(input('Enter the basic pay: '))\n",
        "gross_pay = calc_GrossPay(basic_pay)\n",
        "print(f'The gross pay is {gross_pay}')"
      ],
      "execution_count": null,
      "outputs": [
        {
          "output_type": "stream",
          "name": "stdout",
          "text": [
            "Enter the basic pay: 9000\n",
            "The gross pay is 14400.0\n",
            "Enter the basic pay: 8000\n",
            "The gross pay is 12800.0\n",
            "Enter the basic pay: 4000\n",
            "The gross pay is 6400.0\n"
          ]
        }
      ]
    }
  ]
}